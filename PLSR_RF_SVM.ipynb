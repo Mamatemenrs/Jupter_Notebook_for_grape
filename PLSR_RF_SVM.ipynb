{
 "cells": [
  {
   "cell_type": "markdown",
   "metadata": {},
   "source": [
    "## Import packages"
   ]
  },
  {
   "cell_type": "code",
   "execution_count": 1,
   "metadata": {},
   "outputs": [],
   "source": [
    "import pandas as pd\n",
    "\n",
    "from sklearn.preprocessing import MinMaxScaler\n",
    "from sklearn.model_selection import train_test_split\n",
    "\n",
    "from sys import stdout\n",
    "from scipy.signal import savgol_filter #for derivative calculaiton\n",
    "\n",
    "import numpy as np\n",
    "import sklearn.cross_decomposition\n",
    "from sklearn.cross_decomposition import  PLSRegression\n",
    "from sklearn import linear_model\n",
    "from sklearn.cross_decomposition import PLSRegression\n",
    "from sklearn.model_selection import cross_val_predict\n",
    "from sklearn.metrics import mean_squared_error, r2_score\n",
    "from sklearn.model_selection import cross_val_score, GridSearchCV\n",
    "from sklearn.ensemble import RandomForestRegressor\n",
    "from sklearn.preprocessing import MinMaxScaler\n",
    "from sklearn.model_selection import train_test_split\n",
    "from sklearn.svm import SVR\n"
   ]
  },
  {
   "cell_type": "markdown",
   "metadata": {},
   "source": [
    "## Read, normalize and split traning/test data"
   ]
  },
  {
   "cell_type": "code",
   "execution_count": 2,
   "metadata": {},
   "outputs": [
    {
     "name": "stdout",
     "output_type": "stream",
     "text": [
      "(170, 201) (170,) (73,) (73, 201) 201\n"
     ]
    }
   ],
   "source": [
    "# load dataset, 243 sample X dimension (243, 202), Y dimension (243,1)\n",
    "#df = pd.read_csv('test.csv')\n",
    "xls = pd.ExcelFile('CA_MO_combined.xlsx')\n",
    "df1 = pd.read_excel(xls, 'CA_MO_combined_raw')\n",
    "df2 = pd.read_excel(xls, 'CA_MO_combined_1nm')\n",
    "\n",
    "dataset = df1.values\n",
    "# split into input (X) and output (Y) variables, and training/test data\n",
    "X = dataset[:, 1:202]\n",
    "Y = dataset[:, 205]   # Gs\n",
    "\n",
    "# normalize data\n",
    "scaler = MinMaxScaler(feature_range=(0, 1))\n",
    "#X = scaler.fit_transform(X)\n",
    "\n",
    "X_train, X_test, Y_train, Y_test = train_test_split(X, Y, test_size=0.3, random_state = 9)\n",
    "\n",
    "num_features = X_train.shape[1]\n",
    "\n",
    "print (X_train.shape,Y_train.shape,Y_test.shape,X_test.shape, num_features)"
   ]
  },
  {
   "cell_type": "markdown",
   "metadata": {},
   "source": [
    "## Model evaluation"
   ]
  },
  {
   "cell_type": "code",
   "execution_count": 3,
   "metadata": {},
   "outputs": [],
   "source": [
    "def evaluate(model,X_train, Y_train, X_test, Y_test):\n",
    "    \n",
    "    y_pred = model.predict(X_test)\n",
    "    # The mean squared error\n",
    "    MSE = mean_squared_error(Y_test, y_pred)\n",
    "    RMSE = np.sqrt (MSE)\n",
    "    print(\"RMSE: %.3f\" % RMSE)\n",
    "    testY_mean = np.mean(Y_test)\n",
    "    RRMSE = 100*RMSE/testY_mean\n",
    "    print(\"Relative RMSE: %.3f\" % RRMSE)\n",
    "    R2 = r2_score(Y_test, y_pred)\n",
    "    print('Testing R2: %.3f' % R2)\n",
    "\n",
    "    ## Training accuracy metrics\n",
    "    y_pred_train = model.predict(X_train) \n",
    "    MSE = mean_squared_error(Y_train, y_pred_train)\n",
    "    RMSE = np.sqrt (MSE)\n",
    "    print(\"RMSE of Training: %.3f\" % RMSE)\n",
    "    trainY_mean = np.mean(Y_train)\n",
    "    RRMSE = 100*RMSE/trainY_mean\n",
    "    print(\"Relative RMSE of Trainging: %.3f\" % RRMSE)\n",
    "    # Explained variance score: 1 is perfect prediction\n",
    "    print('Traing R2: %.3f' % r2_score(Y_train, y_pred_train))\n",
    "    \n",
    "    return RRMSE"
   ]
  },
  {
   "cell_type": "markdown",
   "metadata": {},
   "source": [
    "## PLSR"
   ]
  },
  {
   "cell_type": "code",
   "execution_count": 4,
   "metadata": {},
   "outputs": [
    {
     "name": "stderr",
     "output_type": "stream",
     "text": [
      "C:\\Users\\maimaitiyimingm\\AppData\\Local\\conda\\conda\\envs\\Tensorflow\\lib\\site-packages\\sklearn\\model_selection\\_search.py:841: DeprecationWarning: The default of the `iid` parameter will change from True to False in version 0.22 and will be removed in 0.24. This will change numeric results when test-set sizes are unequal.\n",
      "  DeprecationWarning)\n"
     ]
    },
    {
     "data": {
      "text/plain": [
       "GridSearchCV(cv=5, error_score='raise-deprecating',\n",
       "       estimator=PLSRegression(copy=True, max_iter=500, n_components=2, scale=True, tol=1e-06),\n",
       "       fit_params=None, iid='warn', n_jobs=None,\n",
       "       param_grid={'n_components': range(1, 40)}, pre_dispatch='2*n_jobs',\n",
       "       refit=True, return_train_score='warn', scoring='r2', verbose=0)"
      ]
     },
     "execution_count": 4,
     "metadata": {},
     "output_type": "execute_result"
    }
   ],
   "source": [
    "pls = PLSRegression()\n",
    "parl = GridSearchCV(estimator=pls, param_grid={'n_components': range(1,40)}, scoring='r2', cv=5)\n",
    "parl.fit(X, Y)"
   ]
  },
  {
   "cell_type": "code",
   "execution_count": 5,
   "metadata": {},
   "outputs": [
    {
     "name": "stdout",
     "output_type": "stream",
     "text": [
      "RMSE: 0.097\n",
      "Relative RMSE: 41.740\n",
      "Testing R2: 0.510\n",
      "RMSE of Training: 0.098\n",
      "Relative RMSE of Trainging: 38.134\n",
      "Traing R2: 0.460\n"
     ]
    },
    {
     "data": {
      "text/plain": [
       "PLSRegression(copy=True, max_iter=500, n_components=15, scale=True, tol=1e-06)"
      ]
     },
     "execution_count": 5,
     "metadata": {},
     "output_type": "execute_result"
    }
   ],
   "source": [
    "pls_best_grid = parl.best_estimator_\n",
    "grid_accuracy = evaluate(pls_best_grid, X_train, Y_train, X_test, Y_test)\n",
    "pls_best_grid"
   ]
  },
  {
   "cell_type": "markdown",
   "metadata": {},
   "source": [
    "## RF"
   ]
  },
  {
   "cell_type": "code",
   "execution_count": 6,
   "metadata": {
    "scrolled": true
   },
   "outputs": [
    {
     "name": "stdout",
     "output_type": "stream",
     "text": [
      "Fitting 5 folds for each of 1 candidates, totalling 5 fits\n"
     ]
    },
    {
     "name": "stderr",
     "output_type": "stream",
     "text": [
      "[Parallel(n_jobs=-1)]: Using backend LokyBackend with 12 concurrent workers.\n",
      "[Parallel(n_jobs=-1)]: Done   3 out of   5 | elapsed:    0.8s remaining:    0.5s\n",
      "[Parallel(n_jobs=-1)]: Done   5 out of   5 | elapsed:    0.8s finished\n"
     ]
    },
    {
     "data": {
      "text/plain": [
       "GridSearchCV(cv=5, error_score='raise-deprecating',\n",
       "       estimator=RandomForestRegressor(bootstrap=True, criterion='mse', max_depth=None,\n",
       "           max_features='auto', max_leaf_nodes=None,\n",
       "           min_impurity_decrease=0.0, min_impurity_split=None,\n",
       "           min_samples_leaf=1, min_samples_split=2,\n",
       "           min_weight_fraction_leaf=0.0, n_estimators='warn', n_jobs=None,\n",
       "           oob_score=False, random_state=None, verbose=0, warm_start=False),\n",
       "       fit_params=None, iid='warn', n_jobs=-1,\n",
       "       param_grid={'bootstrap': [True], 'max_depth': [165], 'max_features': ['sqrt'], 'min_samples_leaf': [3], 'min_samples_split': [6], 'n_estimators': [38]},\n",
       "       pre_dispatch='2*n_jobs', refit=True, return_train_score='warn',\n",
       "       scoring=None, verbose=2)"
      ]
     },
     "execution_count": 6,
     "metadata": {},
     "output_type": "execute_result"
    }
   ],
   "source": [
    "\n",
    "# Create the parameter grid based on the results of random search \n",
    "#X_train, X_test, Y_train, Y_test = train_test_split(X, Y, test_size=0.3, random_state = 42)\n",
    "\n",
    "param_grid = {\n",
    "    'bootstrap': [True],\n",
    "    #'max_depth': [80, 90, 100, 110],\n",
    "    'max_depth': [165],\n",
    "    #'max_features': range(10, 40, 1),\n",
    "    #'max_features' : ['auto', 'sqrt','log2'],\n",
    "    'max_features' : ['sqrt'],\n",
    "    #'min_samples_leaf': [3, 4, 5],\n",
    "    'min_samples_leaf': [3],\n",
    "    #'min_samples_split': [2, 4, 6, 8, 10, 12],\n",
    "    'min_samples_split': [6],\n",
    "    #'n_estimators': range (1, 1000, 1),\n",
    "    'n_estimators': [38]\n",
    "                     #200, 300, 400, 500, 600, 700, 800, 900, 1000] \n",
    "}\n",
    "# Create a based model\n",
    "rf = RandomForestRegressor()\n",
    "# Instantiate the grid search model\n",
    "grid_search = GridSearchCV(estimator = rf, param_grid = param_grid, \n",
    "                          cv = 5, n_jobs = -1, verbose = 2)\n",
    "\n",
    "# fit RF and pring the best parameters\n",
    "grid_search.fit(X_train, Y_train)"
   ]
  },
  {
   "cell_type": "code",
   "execution_count": 7,
   "metadata": {},
   "outputs": [
    {
     "name": "stdout",
     "output_type": "stream",
     "text": [
      "RMSE: 0.129\n",
      "Relative RMSE: 55.550\n",
      "Testing R2: 0.132\n",
      "RMSE of Training: 0.070\n",
      "Relative RMSE of Trainging: 27.233\n",
      "Traing R2: 0.725\n"
     ]
    },
    {
     "data": {
      "text/plain": [
       "RandomForestRegressor(bootstrap=True, criterion='mse', max_depth=165,\n",
       "           max_features='sqrt', max_leaf_nodes=None,\n",
       "           min_impurity_decrease=0.0, min_impurity_split=None,\n",
       "           min_samples_leaf=3, min_samples_split=6,\n",
       "           min_weight_fraction_leaf=0.0, n_estimators=38, n_jobs=None,\n",
       "           oob_score=False, random_state=None, verbose=0, warm_start=False)"
      ]
     },
     "execution_count": 7,
     "metadata": {},
     "output_type": "execute_result"
    }
   ],
   "source": [
    "best_grid = grid_search.best_estimator_\n",
    "grid_accuracy = evaluate(best_grid, X_train, Y_train, X_test, Y_test)\n",
    "best_grid"
   ]
  },
  {
   "cell_type": "markdown",
   "metadata": {},
   "source": [
    "## SVM "
   ]
  },
  {
   "cell_type": "code",
   "execution_count": 8,
   "metadata": {},
   "outputs": [
    {
     "name": "stdout",
     "output_type": "stream",
     "text": [
      "Fitting 5 folds for each of 216 candidates, totalling 1080 fits\n"
     ]
    },
    {
     "name": "stderr",
     "output_type": "stream",
     "text": [
      "[Parallel(n_jobs=-1)]: Using backend LokyBackend with 12 concurrent workers.\n",
      "[Parallel(n_jobs=-1)]: Done  17 tasks      | elapsed:    0.1s\n",
      "[Parallel(n_jobs=-1)]: Done 1080 out of 1080 | elapsed:    1.0s finished\n"
     ]
    },
    {
     "data": {
      "text/plain": [
       "GridSearchCV(cv=5, error_score='raise-deprecating',\n",
       "       estimator=SVR(C=1.0, cache_size=200, coef0=0.0, degree=3, epsilon=0.1,\n",
       "  gamma='auto_deprecated', kernel='rbf', max_iter=-1, shrinking=True,\n",
       "  tol=0.001, verbose=False),\n",
       "       fit_params=None, iid='warn', n_jobs=-1,\n",
       "       param_grid={'kernel': ('linear', 'rbf', 'poly'), 'C': range(1, 10), 'gamma': [1e-07, 0.0001], 'epsilon': [0.1, 0.2, 0.5, 0.3]},\n",
       "       pre_dispatch='2*n_jobs', refit=True, return_train_score='warn',\n",
       "       scoring=None, verbose=2)"
      ]
     },
     "execution_count": 8,
     "metadata": {},
     "output_type": "execute_result"
    }
   ],
   "source": [
    "np.random.seed(0)\n",
    "\n",
    "parameters = {'kernel': ('linear', 'rbf','poly'),\n",
    "              'C':range (1, 10),\n",
    "              'gamma': [1e-7, 1e-4],\n",
    "              'epsilon':[0.1,0.2,0.5,0.3]}\n",
    "svr = SVR()\n",
    "grid_search = GridSearchCV(svr, parameters, cv=5, n_jobs = -1, verbose = 2)\n",
    "\n",
    "grid_search.fit(X_train,Y_train)"
   ]
  },
  {
   "cell_type": "code",
   "execution_count": 9,
   "metadata": {},
   "outputs": [
    {
     "name": "stdout",
     "output_type": "stream",
     "text": [
      "RMSE: 0.125\n",
      "Relative RMSE: 54.032\n",
      "Testing R2: 0.178\n",
      "RMSE of Training: 0.108\n",
      "Relative RMSE of Trainging: 42.082\n",
      "Traing R2: 0.343\n"
     ]
    },
    {
     "data": {
      "text/plain": [
       "SVR(C=9, cache_size=200, coef0=0.0, degree=3, epsilon=0.1, gamma=1e-07,\n",
       "  kernel='linear', max_iter=-1, shrinking=True, tol=0.001, verbose=False)"
      ]
     },
     "execution_count": 9,
     "metadata": {},
     "output_type": "execute_result"
    }
   ],
   "source": [
    "best_grid = grid_search.best_estimator_\n",
    "grid_accuracy = evaluate(best_grid, X_train, Y_train, X_test, Y_test)\n",
    "best_grid"
   ]
  }
 ],
 "metadata": {
  "kernelspec": {
   "display_name": "Python 3",
   "language": "python",
   "name": "python3"
  },
  "language_info": {
   "codemirror_mode": {
    "name": "ipython",
    "version": 3
   },
   "file_extension": ".py",
   "mimetype": "text/x-python",
   "name": "python",
   "nbconvert_exporter": "python",
   "pygments_lexer": "ipython3",
   "version": "3.6.7"
  }
 },
 "nbformat": 4,
 "nbformat_minor": 2
}
